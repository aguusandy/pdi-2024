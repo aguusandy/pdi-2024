{
  "nbformat": 4,
  "nbformat_minor": 0,
  "metadata": {
    "colab": {
      "provenance": [],
      "authorship_tag": "ABX9TyMt8uUkl8ckE1JbGLH/DL3U",
      "include_colab_link": true
    },
    "kernelspec": {
      "name": "python3",
      "display_name": "Python 3"
    },
    "language_info": {
      "name": "python"
    }
  },
  "cells": [
    {
      "cell_type": "markdown",
      "metadata": {
        "id": "view-in-github",
        "colab_type": "text"
      },
      "source": [
        "<a href=\"https://colab.research.google.com/github/aguusandy/pdi-2024/blob/master/Unidad4_PDI_color.ipynb\" target=\"_parent\"><img src=\"https://colab.research.google.com/assets/colab-badge.svg\" alt=\"Open In Colab\"/></a>"
      ]
    },
    {
      "cell_type": "markdown",
      "source": [
        "# Unidad 4 Procesamiento Digital de Imagenes 2024\n",
        "## Color"
      ],
      "metadata": {
        "id": "Q8_CKILyRLFm"
      }
    },
    {
      "cell_type": "code",
      "execution_count": 1,
      "metadata": {
        "id": "9dt58yx6PNj3"
      },
      "outputs": [],
      "source": [
        "# import de librerias\n",
        "import numpy as np\n",
        "import cv2\n",
        "from matplotlib import pyplot as plt\n",
        "import sys"
      ]
    },
    {
      "cell_type": "code",
      "source": [
        "def get_intensity(rgb_img):\n",
        "  n,m = rgb_img.shape[1],rgb_img.shape[0]\n",
        "  intensity_v = np.zeros((n,m))\n",
        "  r_channel, g_channel, b_channel = cv2.split(rgb_img)\n",
        "  matrices = np.array([r_channel, g_channel, b_channel])\n",
        "  return np.mean(matrices, axis=0)"
      ],
      "metadata": {
        "id": "XkSnck4iowMi"
      },
      "execution_count": 70,
      "outputs": []
    },
    {
      "cell_type": "markdown",
      "source": [
        "## Ejercicio 1:\n",
        "Modelos de color y analisis\n",
        "\n",
        "1. El archivo 'patron.tif’ corresponde a un patron de colores que varıan por columnas de rojo a azul. En este ejercicio se estudiara la informacion que contienen las componentes de los diferentes modelos de color:\n",
        "\n",
        "  • Visualice el patron junto a las componentes [R, G, B] y [H, S, V]\n",
        "\n",
        "  • Analice como varıa la imagen en funcion de los valores de sus planos de color. ¿Que informacion brinda cada canal?\n",
        "\n",
        "  • Modifique las componentes H, S e V de la imagen para obtener un patron en RGB que cumpla con las siguientes condiciones\n",
        "\n",
        "      – Variacion de matices de azul a rojo.\n",
        "\n",
        "      – Saturacion y brillo maximos.\n",
        "  \n",
        "  • Vizualice la nueva imagen y sus componentes en ambos modelos. Analice y saque conclusiones.\n",
        "  \n",
        "2. Genere una funcion cuyo resultado sea una imagen donde los pixeles tengan los colores complementarios a los de la original. Utilice las componentes del modelo HSV y la imagen ‘rosas.jpg’.\n",
        "\n",
        "3. Mejore la funcion para trazar los perfiles de intensidad que realizo en guıas previas, para que en la misma grafica\n",
        "\n",
        "  • se visualicen simultaneamente los perfiles de cada canal: R, G y B.\n",
        "  \n",
        "  • se visualicen los perfiles de los canales H, S y V."
      ],
      "metadata": {
        "id": "bMMSvSPGRZQl"
      }
    },
    {
      "cell_type": "code",
      "source": [
        "# EJERCICIO 1.1\n",
        "# use cv2.COLOR_BGR2RGB to read the patter as RGB\n",
        "# img_patter_rgb = cv2.imread('patron.tif',cv2.COLOR_BGR2RGB)\n",
        "img_patter = cv2.imread('patron.tif')\n",
        "img_patter_rgb = cv2.cvtColor(img_patter, cv2.COLOR_BGR2RGB)\n",
        "r_channel, g_channel, b_channel = cv2.split(img_patter_rgb)\n",
        "\n",
        "fig,ax = plt.subplots(nrows=1,ncols=4,figsize=(10,10))\n",
        "ax[0].imshow(img_patter_rgb)\n",
        "ax[0].set_title('RGB')\n",
        "ax[1].imshow(r_channel,cmap='Reds')\n",
        "ax[1].set_title('red')\n",
        "ax[2].imshow(g_channel,cmap='Greens')\n",
        "ax[2].set_title('green')\n",
        "ax[3].imshow(b_channel,cmap='Blues')\n",
        "ax[3].set_title('blue')\n",
        "\n",
        "# img_patter_hsv = cv2.imread('patron.tif', cv2.COLOR_BGR2HSV)\n",
        "img_patter_hsv = cv2.cvtColor(img_patter, cv2.COLOR_BGR2HSV)\n",
        "h_channel, s_channel, v_channel = cv2.split(img_patter_rgb)\n",
        "\n",
        "fig,ax2 = plt.subplots(nrows=1,ncols=4,figsize=(10,10))\n",
        "ax2[0].imshow(img_patter_rgb)\n",
        "ax2[0].set_title('HSV')\n",
        "ax2[1].imshow(h_channel,cmap='hsv')\n",
        "ax2[1].set_title('hue')\n",
        "ax2[2].imshow(s_channel,cmap='gray')\n",
        "ax2[2].set_title('saturation')\n",
        "ax2[3].imshow(v_channel,cmap='gray')\n",
        "ax2[3].set_title('value')"
      ],
      "metadata": {
        "colab": {
          "base_uri": "https://localhost:8080/",
          "height": 502
        },
        "id": "lqQqlrmRR9E8",
        "outputId": "3630ea19-4094-46b4-ea16-081c9f95a118"
      },
      "execution_count": 73,
      "outputs": [
        {
          "output_type": "execute_result",
          "data": {
            "text/plain": [
              "Text(0.5, 1.0, 'value')"
            ]
          },
          "metadata": {},
          "execution_count": 73
        },
        {
          "output_type": "display_data",
          "data": {
            "text/plain": [
              "<Figure size 1000x1000 with 4 Axes>"
            ],
            "image/png": "[encoded data removed]"
          },
          "metadata": {}
        },
        {
          "output_type": "display_data",
          "data": {
            "text/plain": [
              "<Figure size 1000x1000 with 4 Axes>"
            ],
            "image/png": "[encoded data removed]"
          },
          "metadata": {}
        }
      ]
    },
    {
      "cell_type": "code",
      "source": [
        "# Modifique las componentes H, S e V de la imagen para obtener un patron en RGB que cumpla con las siguientes condiciones\n",
        "img_patter_bgr = []\n",
        "\n",
        "fig,ax = plt.subplots(nrows=1,ncols=2,figsize=(10,10))\n",
        "ax[0].imshow(img_patter_rgb)\n",
        "ax[0].set_title('Red-Green-Blue')\n",
        "ax[1].imshow(img_patter_bgr)\n",
        "ax[1].set_title('Blue-Green-Red')"
      ],
      "metadata": {
        "id": "jXo7KbWosG5E"
      },
      "execution_count": null,
      "outputs": []
    },
    {
      "cell_type": "code",
      "source": [
        "# EJERCICIO 1.2"
      ],
      "metadata": {
        "id": "raqB98evR_18"
      },
      "execution_count": null,
      "outputs": []
    },
    {
      "cell_type": "code",
      "source": [
        "# EJERCICIO 1.3"
      ],
      "metadata": {
        "id": "uwJFUfLGR-84"
      },
      "execution_count": null,
      "outputs": []
    },
    {
      "cell_type": "markdown",
      "source": [
        "## Ejercicio 2:\n",
        "Procesamiento de imagenes en pseudocolor\n",
        "\n",
        "1. Habitualmente las imagenes que se relevan en partes no visibles del espectro (como las de infrarrojos, radar, etc.) se encuentran en escala de grises. Para resaltar zonas de interes, se pueden asignar colores a rangos especıficos de intensidades. Para este ejercicio debe utilizar la imagen ‘rio.jpg’ y resaltar todas las areas con acumulaciones grandes de agua (rıo central, ramas mayores y pequeÑos lagos) en color amarillo. A continuacion le proponemos una guıa metodologica para resolver esto, aunque usted puede proponer otra:\n",
        "\n",
        "  (a) analizar el histograma y estimar el rango de valores en el que se representa el agua,\n",
        "  \n",
        "  (b) generar una imagen color cuyos canales son copia de la imagen de intensidad,\n",
        "  \n",
        "  (c) recorrer la imagen original y asignar el color amarillo a los pıxeles cuyas intensidades estan dentro del rango definido,\n",
        "  \n",
        "  (d) visualizar la imagen resultante y ajustar el rango de grises de ser necesario. Consejo: esto se hace Mas simple utilizando trackbars."
      ],
      "metadata": {
        "id": "DUkhvOIaSBvL"
      }
    },
    {
      "cell_type": "code",
      "source": [
        "# EJERCICIO 2.a"
      ],
      "metadata": {
        "id": "RFO7Ap99Sad3"
      },
      "execution_count": null,
      "outputs": []
    },
    {
      "cell_type": "code",
      "source": [
        "# EJERCICIO 2.b"
      ],
      "metadata": {
        "id": "HsrQWNE0SdVD"
      },
      "execution_count": null,
      "outputs": []
    },
    {
      "cell_type": "code",
      "source": [
        "# EJERCICIO 2.c"
      ],
      "metadata": {
        "id": "pp67ev-3SfVp"
      },
      "execution_count": null,
      "outputs": []
    },
    {
      "cell_type": "code",
      "source": [
        "# EJERCICIO 2.d"
      ],
      "metadata": {
        "id": "LUOLXTvVSi2I"
      },
      "execution_count": null,
      "outputs": []
    },
    {
      "cell_type": "markdown",
      "source": [
        "## Ejercicio 3:\n",
        "\n",
        "Procesamiento de imagenes en color\n",
        "\n",
        "1. Manejo de histograma: la imagen ‘chairs oscura.jpg’ posee poca luminosidad. Usted debe mejorar la imagen a partir de la ecualizacion de histograma, comparando los efectos de realizarla en RGB (por planos), en HSV (canal V) y en HSI (canal I).\n",
        "\n",
        "  • Visualice la imagen original ‘chairs.jpg’, comparela con las imagenes realzadas y discuta los resultados.\n",
        "  \n",
        "  • Repita el proceso para otras imagenes de bajo contraste (por ejemplo ‘flowers oscura.tif’) y analice los resultados.\n",
        "  \n",
        "2. Realce mediante acentuado: utilice la imagen‘camino.tif’ que se observa desenfocada. Usted debe mejorar la imagen aplicando un filtro pasa altos de suma 1. Compare los resultados de procesar la imagen en los modelos RGB, HSV y HSI."
      ],
      "metadata": {
        "id": "BDBm-YvMSnOu"
      }
    },
    {
      "cell_type": "code",
      "source": [
        "# EJERCICIO 3.1"
      ],
      "metadata": {
        "id": "wrmBxDHoS3dg"
      },
      "execution_count": null,
      "outputs": []
    },
    {
      "cell_type": "code",
      "source": [
        "# EJERCICIO 3.2"
      ],
      "metadata": {
        "id": "cIsxObnTS5eC"
      },
      "execution_count": null,
      "outputs": []
    },
    {
      "cell_type": "markdown",
      "source": [
        "## Ejercicio 4:\n",
        "Segmentacion basada en color\n",
        "\n",
        "Este proceso permite separar la imagen en regiones utilizando informacion del color. En este ejercicio usted debe implementar la segmentacion de imagenes para los modelos de color RGB y HSV. En cada caso debera determinar el subespacio a segmentar para generar una mascara, que luego utilizara para extraer solo la informacion de interes de la imagen original. En cuanto a la metodologıa, le proponemos que utilice la imagen ‘futbol.jpg’ y defina una ROI representativa del color a segmentar, luego • para el modelo RGB: use la informaci´on para calcular el centro de la esfera y su radio. Podrıa reemplazar la formula de la esfera por la de una elipsoide.\n",
        "\n",
        "  • para el modelo HSV: Utilice las componentes H y S para determinar el subespacio rectangular a segmentar. Consejo: utilizar los histogramas puede ser una buena alternativa.\n",
        "  \n",
        "  • Compare, analice y saque conclusiones sobre los resultados de ambos Metodos.\n",
        "  \n",
        "  • Pruebe su implementacion con otras imagenes, por ejemplo segmentando solo la piel en las imAgenes s01 i08 H s06 i13 H LV.png, s08 i06 CM.png, s03 i10 H MA.png.\n",
        "  \n",
        "  Analice el desempeÑo de ambos metodos.\n",
        "  \n",
        "  ¿Que metodo le parece mejor? H DM.png, s05 i08 H LB.png,\n",
        "  \n",
        "  ¿Es posible obtener un conjunto de valores optimo para todas las imagenes?\n",
        "  \n",
        "  ¿Es suficiente aplicar la segmentacion sin metodos de pre-procesamiento (realce o filtrado)?\n",
        "  \n",
        "  ¿Donde cree usted que estan los mayores inconvenientes?\n",
        "  \n",
        "   ¿Que condiciones observa en la escena que son homogeneas y cuales heterogeneas? (distancia camara-objeto, foco, iluminacion ambiente, fondo de la escena, ubicacion y pose del sujeto, color de piel, vestimenta y accesorios, etc.)\n",
        "   \n",
        "   A partir de estos analisis, ¿Podrıa usted generar una lista de consideraciones utiles para generar una base de datos de imagenes?"
      ],
      "metadata": {
        "id": "XQd05G8rS6f0"
      }
    },
    {
      "cell_type": "code",
      "source": [
        "# EJERCICIO 4"
      ],
      "metadata": {
        "id": "ZCKtX9g0Tl-E"
      },
      "execution_count": null,
      "outputs": []
    },
    {
      "cell_type": "markdown",
      "source": [
        "## Ejercicio 5:\n",
        "\n",
        "Trabajos de aplicacion\n",
        "\n",
        "1. Realice una aplicacIon que le permita cargar y visualizar una imagen y el resultado de la segmentacion, simultaneamente. Los rangos (superior e inferior) de los canales seran seteados mediantes tracksbars. Utilice un componente tipo check-box o una tecla para mostrar la mascara o la segmentacion, alternativamente.\n",
        "\n",
        "  • Implemente una versIon que le permita obtener la segmentacion de una imagen, utilizando [R,G,B].\n",
        "  \n",
        "  • Implemente una version que le permita obtener la segmentacion de una imagen, utilizando [H,S,V].\n",
        "  \n",
        "  • Implemente una version que le permita obtener la segmentacion de un video, utilizando [H,S,V], on the fly.\n",
        "  \n",
        "  • Implemente una version que le permita obtener la segmentacion de la captura de la webcam, utilizando [H,S,V].\n",
        "  \n",
        "2. El gobierno de la provincia de Misiones lo ha contratado para realizar una aplicacion que sea capaz de detectar zonas deforestadas. Para desarrollar un primer prototipo le han suministrado una imagen satelital (Deforestacion.png) en la que un experto ya delimito el area donde deberıa existir monte nativo y sobre la cual usted debe trabajar. Se requiere que su aplicacion:\n",
        "\n",
        "  • Segmente y resalte en algun tono de rojo el area deforestada.\n",
        "  \n",
        "  • Calcule el area total (hectareas) de la zona delimitada, el area de la zona que tiene monte y el area de la zona deforestada.\n",
        "  \n",
        "  • (Opcional) Detecte automaticamente la delimitacion de la zona.\n",
        "  \n",
        "  Ayuda:\n",
        "  • Explore todos los canales de los diferentes modelos de color para determinar cual (o que combinacion de ellos) le proporciona mas informacion.\n",
        "  • Como su objetivo es la segmentacion de las distintas zonas, piense que herramienta (de las que ya conoce) le permitirıa lograr zonas mas homogeneas.\n",
        "  • Utilice la referencia de la esquina inferior izquierda para computar los tamaÑos de las regiones."
      ],
      "metadata": {
        "id": "uC2ERg3eTqCr"
      }
    },
    {
      "cell_type": "code",
      "source": [],
      "metadata": {
        "id": "qDOzsnwjUVWN"
      },
      "execution_count": null,
      "outputs": []
    }
  ]
}